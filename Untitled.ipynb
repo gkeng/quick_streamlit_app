{
 "cells": [
  {
   "cell_type": "code",
   "execution_count": 30,
   "metadata": {},
   "outputs": [],
   "source": [
    "import pandas as pd\n",
    "from tpot import TPOTClassifier\n",
    "from sklearn.model_selection import train_test_split, GridSearchCV\n",
    "import numpy as np\n",
    "from sklearn import metrics\n",
    "from sklearn.metrics import make_scorer\n",
    "import warnings\n",
    "warnings.filterwarnings('ignore')\n",
    "from sklearn.pipeline import Pipeline\n",
    "from sklearn.ensemble import RandomForestClassifier\n",
    "from sklearn.neural_network import MLPClassifier\n",
    "from sklearn.linear_model import LogisticRegression\n",
    "from sklearn.preprocessing import StandardScaler\n",
    "\n"
   ]
  },
  {
   "cell_type": "code",
   "execution_count": 32,
   "metadata": {},
   "outputs": [],
   "source": [
    "def custom_metric(estimator, X, y_true):\n",
    "    y_prob = estimator.predict_proba(X)\n",
    "    fpr, tpr, _ = metrics.roc_curve(y_true.astype('int64'),y_prob[:,1])\n",
    "    tnr = 1-fpr\n",
    "    i = len(tpr) - 1\n",
    "\n",
    "    while tpr[i]==1:\n",
    "        i-=1\n",
    "        return tnr[i]\n",
    "    \n",
    "    "
   ]
  },
  {
   "cell_type": "code",
   "execution_count": 10,
   "metadata": {},
   "outputs": [],
   "source": [
    "df = pandas.read_csv('credit_default_clients.csv', sep=';')"
   ]
  },
  {
   "cell_type": "code",
   "execution_count": 15,
   "metadata": {},
   "outputs": [],
   "source": [
    "df = df.rename(columns={'default payment next month': \"default\"})\n",
    "y = df[\"default\"]\n",
    "var = [col for col in list(df.columns) if col != \"default\"]\n",
    "X = df[var]\n",
    "\n",
    "X_train, X_test, y_train, y_test = train_test_split(X.astype(np.float64),\n",
    "    y.astype(np.float64), train_size=0.75, test_size=0.25, random_state=42)"
   ]
  },
  {
   "cell_type": "code",
   "execution_count": 21,
   "metadata": {},
   "outputs": [],
   "source": [
    "pipeline_optimizer = TPOTClassifier(generations=50, population_size = 50, scoring = \"average_precision\",\n",
    "                                   n_jobs = 3, max_time_mins= 10, use_dask = True)"
   ]
  },
  {
   "cell_type": "code",
   "execution_count": 22,
   "metadata": {},
   "outputs": [
    {
     "data": {
      "text/plain": [
       "TPOTClassifier(generations=50,\n",
       "               log_file=<ipykernel.iostream.OutStream object at 0x10ede6cd0>,\n",
       "               max_time_mins=10, n_jobs=3, population_size=50,\n",
       "               scoring='average_precision', use_dask=True)"
      ]
     },
     "execution_count": 22,
     "metadata": {},
     "output_type": "execute_result"
    }
   ],
   "source": [
    "pipeline_optimizer.fit(X_train, y_train)"
   ]
  },
  {
   "cell_type": "code",
   "execution_count": 35,
   "metadata": {},
   "outputs": [],
   "source": [
    "pipeline_optimizer.export('tpot_exported.py')"
   ]
  },
  {
   "cell_type": "code",
   "execution_count": 33,
   "metadata": {},
   "outputs": [
    {
     "data": {
      "text/plain": [
       "GridSearchCV(estimator=Pipeline(steps=[('scaler', StandardScaler()),\n",
       "                                       ('classifier',\n",
       "                                        RandomForestClassifier())]),\n",
       "             n_jobs=-1,\n",
       "             param_grid=[{'classifier': [MLPClassifier()],\n",
       "                          'classifier__activation': ['logistic'],\n",
       "                          'classifier__alpha': [0.1, 0.5],\n",
       "                          'classifier__hidden_layer_sizes': [(12, 6),\n",
       "                                                             (12, 6, 3)],\n",
       "                          'classifier__solver': ['lbfgs']},\n",
       "                         {'classifier': [RandomForestClassifier(max_depth=5,\n",
       "                                                                n_estimators=10,\n",
       "                                                                n_jobs=-1)],\n",
       "                          'classifier__max_depth': [5, 10],\n",
       "                          'classifier__n_estimators': [10, 20]}],\n",
       "             scoring=<function custom_metric at 0x13169fdc0>)"
      ]
     },
     "execution_count": 33,
     "metadata": {},
     "output_type": "execute_result"
    }
   ],
   "source": [
    "pipeline = Pipeline([\n",
    "                ('scaler', StandardScaler()),\n",
    "                ('classifier', RandomForestClassifier())\n",
    "            ])\n",
    "param_grid = [{'classifier' : [MLPClassifier()],\n",
    "               'classifier__hidden_layer_sizes': [(12, 6),(12, 6, 3)],\n",
    "              'classifier__solver': ['adam'],\n",
    "              'classifier__alpha': [0.1, 0.5],\n",
    "               'classifier__activation' : ['logistic'],\n",
    "              'classifier__solver': ['lbfgs'],\n",
    "              },\n",
    "             {'classifier' : [RandomForestClassifier(n_jobs = -1)],\n",
    "              'classifier__n_estimators': [10,20],\n",
    "              'classifier__max_depth' : [5, 10]}]\n",
    "\n",
    "gs = GridSearchCV(pipeline,param_grid=param_grid,scoring=custom_metric, n_jobs=-1)\n",
    "gs.fit(X_train,y_train)"
   ]
  },
  {
   "cell_type": "code",
   "execution_count": 36,
   "metadata": {},
   "outputs": [
    {
     "data": {
      "text/plain": [
       "Pipeline(steps=[('scaler', StandardScaler()),\n",
       "                ('classifier',\n",
       "                 RandomForestClassifier(max_depth=5, n_estimators=10,\n",
       "                                        n_jobs=-1))])"
      ]
     },
     "execution_count": 36,
     "metadata": {},
     "output_type": "execute_result"
    }
   ],
   "source": [
    "gs.best_estimator_"
   ]
  }
 ],
 "metadata": {
  "kernelspec": {
   "display_name": "Python 3",
   "language": "python",
   "name": "python3"
  },
  "language_info": {
   "codemirror_mode": {
    "name": "ipython",
    "version": 3
   },
   "file_extension": ".py",
   "mimetype": "text/x-python",
   "name": "python",
   "nbconvert_exporter": "python",
   "pygments_lexer": "ipython3",
   "version": "3.8.5"
  }
 },
 "nbformat": 4,
 "nbformat_minor": 4
}
